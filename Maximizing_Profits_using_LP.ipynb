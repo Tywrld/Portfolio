{
  "nbformat": 4,
  "nbformat_minor": 0,
  "metadata": {
    "colab": {
      "provenance": []
    },
    "kernelspec": {
      "name": "python3",
      "display_name": "Python 3"
    },
    "language_info": {
      "name": "python"
    }
  },
  "cells": [
    {
      "cell_type": "code",
      "execution_count": 2,
      "metadata": {
        "colab": {
          "base_uri": "https://localhost:8080/"
        },
        "id": "LpBoIhCbnURc",
        "outputId": "01278a06-18a6-46d8-aceb-6a990bc8a34f"
      },
      "outputs": [
        {
          "output_type": "stream",
          "name": "stdout",
          "text": [
            "Requirement already satisfied: cplex in /usr/local/lib/python3.11/dist-packages (22.1.2.0)\n",
            "Requirement already satisfied: docplex in /usr/local/lib/python3.11/dist-packages (2.29.241)\n",
            "Requirement already satisfied: six in /usr/local/lib/python3.11/dist-packages (from docplex) (1.17.0)\n"
          ]
        }
      ],
      "source": [
        "#installing the necessary libraries\n",
        "!pip install cplex\n",
        "!pip install docplex\n",
        "from docplex.mp.model import Model"
      ]
    },
    {
      "cell_type": "code",
      "source": [
        "#Giving our model a name\n",
        "LP_model= Model(name=\"Maximizing Furniture Factory Profit\")\n"
      ],
      "metadata": {
        "id": "L_ppaVrtnghR"
      },
      "execution_count": 20,
      "outputs": []
    },
    {
      "cell_type": "code",
      "source": [
        "#declaring the varibles\n",
        "X= LP_model.integer_var(name=\"Number of chairs made per day\")\n",
        "Y= LP_model.integer_var(name=\"Number of tables made per day\")"
      ],
      "metadata": {
        "id": "RvVrNQp1nklx"
      },
      "execution_count": 21,
      "outputs": []
    },
    {
      "cell_type": "code",
      "source": [
        "#constants for constraints\n",
        "\n",
        "#availability of wood per day\n",
        "WoodA = 600\n",
        "\n",
        "#work hours per day\n",
        "Labor = 120\n",
        "\n",
        "#storage\n",
        "storage = 50\n",
        "\n",
        "#obj func\n",
        "#Cost for each\n",
        "chairC = 50\n",
        "tableC = 100\n",
        "\n",
        "\n",
        "#amout of wood it takes to make a chair and table\n",
        "chairW = 5\n",
        "tableW = 20\n",
        "\n",
        "#time it takes to make a chair and table\n",
        "chairT = 2\n",
        "tableT = 5\n",
        "\n"
      ],
      "metadata": {
        "id": "dQcIxPx1nnJx"
      },
      "execution_count": 30,
      "outputs": []
    },
    {
      "cell_type": "code",
      "source": [
        "\n",
        "#Making sure we dont go past our wood availability\n",
        "wood_availability = LP_model.add_constraint(LP_model.sum([chairW*X, tableT*Y])<=600)"
      ],
      "metadata": {
        "id": "XXCQ3W-anp2p"
      },
      "execution_count": 23,
      "outputs": []
    },
    {
      "cell_type": "code",
      "source": [
        "\n",
        "#making sure labor doesn't pass over 120hours\n",
        "Labor_Hours = LP_model.add_constraint(LP_model.sum([chairT*X, tableT*Y,])<=120)"
      ],
      "metadata": {
        "id": "KWqL2XxlntxJ"
      },
      "execution_count": 24,
      "outputs": []
    },
    {
      "cell_type": "code",
      "source": [
        "\n",
        "#making sure we dont exceed storage\n",
        "Storage_space = LP_model.add_constraint(LP_model.sum([X, Y,])<=50)"
      ],
      "metadata": {
        "id": "3wTspj9EnuCH"
      },
      "execution_count": 25,
      "outputs": []
    },
    {
      "cell_type": "code",
      "source": [
        "\n",
        "#We want to maximize our profits\n",
        "LP_model.maximize(chairC*X + tableC*Y)"
      ],
      "metadata": {
        "id": "8z6Ihv-jn0Ap"
      },
      "execution_count": 31,
      "outputs": []
    },
    {
      "cell_type": "code",
      "source": [
        "#prints the basic info such as name, variables, ect..\n",
        "LP_model.print_information()\n"
      ],
      "metadata": {
        "colab": {
          "base_uri": "https://localhost:8080/"
        },
        "id": "2n9RzcKln2la",
        "outputId": "914115bb-994a-4785-ab83-3259cec9dc55"
      },
      "execution_count": 32,
      "outputs": [
        {
          "output_type": "stream",
          "name": "stdout",
          "text": [
            "Model: Maximizing Furniture Factory Profit\n",
            " - number of variables: 2\n",
            "   - binary=0, integer=2, continuous=0\n",
            " - number of constraints: 3\n",
            "   - linear=3\n",
            " - parameters: defaults\n",
            " - objective: maximize\n",
            " - problem type is: MILP\n"
          ]
        }
      ]
    },
    {
      "cell_type": "code",
      "source": [
        "#solves the problem\n",
        "sol= LP_model.solve()"
      ],
      "metadata": {
        "id": "DctCCnoDn9dy"
      },
      "execution_count": 33,
      "outputs": []
    },
    {
      "cell_type": "code",
      "source": [
        "#prints the solution\n",
        "sol.display()\n"
      ],
      "metadata": {
        "colab": {
          "base_uri": "https://localhost:8080/"
        },
        "id": "WZbpaGD8n_17",
        "outputId": "137e915f-8dc6-44b0-c14a-08df56c92cef"
      },
      "execution_count": 34,
      "outputs": [
        {
          "output_type": "stream",
          "name": "stdout",
          "text": [
            "solution for: Maximizing Furniture Factory Profit\n",
            "objective: 2800\n",
            "status: OPTIMAL_SOLUTION(2)\n",
            "Number of chairs made per day = 44\n",
            "Number of tables made per day = 6\n"
          ]
        }
      ]
    }
  ]
}